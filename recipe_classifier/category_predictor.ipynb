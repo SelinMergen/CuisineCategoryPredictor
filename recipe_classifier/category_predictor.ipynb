{
 "cells": [
  {
   "cell_type": "code",
   "execution_count": 1,
   "metadata": {},
   "outputs": [],
   "source": [
    "import json\n",
    "import pandas as pd\n",
    "import matplotlib.pyplot as plt\n",
    "import seaborn as sns\n",
    "import warnings\n",
    "from sklearn.pipeline import Pipeline\n",
    "from sklearn.model_selection import StratifiedKFold\n",
    "\n",
    "\n",
    "%matplotlib inline\n",
    "warnings.filterwarnings(\"ignore\")"
   ]
  },
  {
   "cell_type": "code",
   "execution_count": 2,
   "metadata": {},
   "outputs": [
    {
     "data": {
      "text/plain": "                                                                                       name  \\\nlink                                                                                          \nhttps://www.yummly.com/recipe/The-Best-Asian-Ve...                The Best Asian Vegetables   \nhttps://www.yummly.com/recipe/Best-Asian-Meatba...                      Best Asian Meatball   \nhttps://www.yummly.com/recipe/The-Best-Asian-Pe...              The Best Asian Peanut Sauce   \nhttps://www.yummly.com/recipe/Best-Asian-Garlic...  Best Asian Garlic Paleo Whole30 Noodles   \nhttps://www.yummly.com/recipe/The-Best-Asian-St...         The Best Asian Style Green Beans   \n\n                                                   totalTime  rating  \\\nlink                                                                   \nhttps://www.yummly.com/recipe/The-Best-Asian-Ve...    35 min     4.0   \nhttps://www.yummly.com/recipe/Best-Asian-Meatba...      1 hr     4.0   \nhttps://www.yummly.com/recipe/The-Best-Asian-Pe...    10 min     4.0   \nhttps://www.yummly.com/recipe/Best-Asian-Garlic...    10 min     4.0   \nhttps://www.yummly.com/recipe/The-Best-Asian-St...    15 min     4.0   \n\n                                                                 category  \\\nlink                                                                        \nhttps://www.yummly.com/recipe/The-Best-Asian-Ve...                    NaN   \nhttps://www.yummly.com/recipe/Best-Asian-Meatba...            Main Dishes   \nhttps://www.yummly.com/recipe/The-Best-Asian-Pe...  Condiments and Sauces   \nhttps://www.yummly.com/recipe/Best-Asian-Garlic...                    NaN   \nhttps://www.yummly.com/recipe/The-Best-Asian-St...            Side Dishes   \n\n                                                    cuisine  \\\nlink                                                          \nhttps://www.yummly.com/recipe/The-Best-Asian-Ve...    Asian   \nhttps://www.yummly.com/recipe/Best-Asian-Meatba...  Chinese   \nhttps://www.yummly.com/recipe/The-Best-Asian-Pe...    Asian   \nhttps://www.yummly.com/recipe/Best-Asian-Garlic...    Asian   \nhttps://www.yummly.com/recipe/The-Best-Asian-St...      NaN   \n\n                                                                                                 tags  \\\nlink                                                                                                    \nhttps://www.yummly.com/recipe/The-Best-Asian-Ve...  [{'cuisine': ['Asian']}, {'difficulty': ['Easy...   \nhttps://www.yummly.com/recipe/Best-Asian-Meatba...  [{'course': ['Main Dishes']}, {'cuisine': ['Ch...   \nhttps://www.yummly.com/recipe/The-Best-Asian-Pe...  [{'course': ['Condiments and Sauces']}, {'cuis...   \nhttps://www.yummly.com/recipe/Best-Asian-Garlic...  [{'cuisine': ['Asian']}, {'difficulty': ['Quic...   \nhttps://www.yummly.com/recipe/The-Best-Asian-St...  [{'course': ['Side Dishes']}, {'difficulty': [...   \n\n                                                                                IngredientsWithAmount  \\\nlink                                                                                                    \nhttps://www.yummly.com/recipe/The-Best-Asian-Ve...  ['two Tablespoons vegetable oil', '2 medium zu...   \nhttps://www.yummly.com/recipe/Best-Asian-Meatba...  ['1lb lean ground beef', '½ cup white onion (m...   \nhttps://www.yummly.com/recipe/The-Best-Asian-Pe...  ['2 tablespoons light coconut milk', '1/4 cup ...   \nhttps://www.yummly.com/recipe/Best-Asian-Garlic...  ['1 large cooked spaghetti squash see notes on...   \nhttps://www.yummly.com/recipe/The-Best-Asian-St...  ['2 lbs frozen or fresh whole green beans (If ...   \n\n                                                                                          Ingredients  \\\nlink                                                                                                    \nhttps://www.yummly.com/recipe/The-Best-Asian-Ve...  ['vegetable oil', 'medium zucchini', 'broccoli...   \nhttps://www.yummly.com/recipe/Best-Asian-Meatba...  ['lean ground beef', 'white onion', 'egg', 'ga...   \nhttps://www.yummly.com/recipe/The-Best-Asian-Pe...  ['light coconut milk', 'low sodium chicken bro...   \nhttps://www.yummly.com/recipe/Best-Asian-Garlic...  ['spaghetti squash', 'medium zucchini', 'large...   \nhttps://www.yummly.com/recipe/The-Best-Asian-St...  ['green beans', 'olive oil', 'soy sauce', 'gra...   \n\n                                                                                      NutritionValues  \nlink                                                                                                   \nhttps://www.yummly.com/recipe/The-Best-Asian-Ve...  {'FAT_KCAL': '90.0kcal', 'K': '0.57g', 'FASAT'...  \nhttps://www.yummly.com/recipe/Best-Asian-Meatba...  {'FAT_KCAL': '70.0kcal', 'K': '0.69g', 'FASAT'...  \nhttps://www.yummly.com/recipe/The-Best-Asian-Pe...  {'FAT_KCAL': '120.0kcal', 'K': '0.23g', 'FASAT...  \nhttps://www.yummly.com/recipe/Best-Asian-Garlic...  {'FAT_KCAL': '100.0kcal', 'K': '0.75g', 'FASAT...  \nhttps://www.yummly.com/recipe/The-Best-Asian-St...  {'FAT_KCAL': '25.0kcal', 'K': '0.24g', 'FASAT'...  ",
      "text/html": "<div>\n<style scoped>\n    .dataframe tbody tr th:only-of-type {\n        vertical-align: middle;\n    }\n\n    .dataframe tbody tr th {\n        vertical-align: top;\n    }\n\n    .dataframe thead th {\n        text-align: right;\n    }\n</style>\n<table border=\"1\" class=\"dataframe\">\n  <thead>\n    <tr style=\"text-align: right;\">\n      <th></th>\n      <th>name</th>\n      <th>totalTime</th>\n      <th>rating</th>\n      <th>category</th>\n      <th>cuisine</th>\n      <th>tags</th>\n      <th>IngredientsWithAmount</th>\n      <th>Ingredients</th>\n      <th>NutritionValues</th>\n    </tr>\n    <tr>\n      <th>link</th>\n      <th></th>\n      <th></th>\n      <th></th>\n      <th></th>\n      <th></th>\n      <th></th>\n      <th></th>\n      <th></th>\n      <th></th>\n    </tr>\n  </thead>\n  <tbody>\n    <tr>\n      <th>https://www.yummly.com/recipe/The-Best-Asian-Vegetables-2574596</th>\n      <td>The Best Asian Vegetables</td>\n      <td>35 min</td>\n      <td>4.0</td>\n      <td>NaN</td>\n      <td>Asian</td>\n      <td>[{'cuisine': ['Asian']}, {'difficulty': ['Easy...</td>\n      <td>['two Tablespoons vegetable oil', '2 medium zu...</td>\n      <td>['vegetable oil', 'medium zucchini', 'broccoli...</td>\n      <td>{'FAT_KCAL': '90.0kcal', 'K': '0.57g', 'FASAT'...</td>\n    </tr>\n    <tr>\n      <th>https://www.yummly.com/recipe/Best-Asian-Meatball-1110225</th>\n      <td>Best Asian Meatball</td>\n      <td>1 hr</td>\n      <td>4.0</td>\n      <td>Main Dishes</td>\n      <td>Chinese</td>\n      <td>[{'course': ['Main Dishes']}, {'cuisine': ['Ch...</td>\n      <td>['1lb lean ground beef', '½ cup white onion (m...</td>\n      <td>['lean ground beef', 'white onion', 'egg', 'ga...</td>\n      <td>{'FAT_KCAL': '70.0kcal', 'K': '0.69g', 'FASAT'...</td>\n    </tr>\n    <tr>\n      <th>https://www.yummly.com/recipe/The-Best-Asian-Peanut-Sauce-9374100</th>\n      <td>The Best Asian Peanut Sauce</td>\n      <td>10 min</td>\n      <td>4.0</td>\n      <td>Condiments and Sauces</td>\n      <td>Asian</td>\n      <td>[{'course': ['Condiments and Sauces']}, {'cuis...</td>\n      <td>['2 tablespoons light coconut milk', '1/4 cup ...</td>\n      <td>['light coconut milk', 'low sodium chicken bro...</td>\n      <td>{'FAT_KCAL': '120.0kcal', 'K': '0.23g', 'FASAT...</td>\n    </tr>\n    <tr>\n      <th>https://www.yummly.com/recipe/Best-Asian-Garlic-Paleo-Whole30-Noodles-2385453</th>\n      <td>Best Asian Garlic Paleo Whole30 Noodles</td>\n      <td>10 min</td>\n      <td>4.0</td>\n      <td>NaN</td>\n      <td>Asian</td>\n      <td>[{'cuisine': ['Asian']}, {'difficulty': ['Quic...</td>\n      <td>['1 large cooked spaghetti squash see notes on...</td>\n      <td>['spaghetti squash', 'medium zucchini', 'large...</td>\n      <td>{'FAT_KCAL': '100.0kcal', 'K': '0.75g', 'FASAT...</td>\n    </tr>\n    <tr>\n      <th>https://www.yummly.com/recipe/The-Best-Asian-Style-Green-Beans-9599331</th>\n      <td>The Best Asian Style Green Beans</td>\n      <td>15 min</td>\n      <td>4.0</td>\n      <td>Side Dishes</td>\n      <td>NaN</td>\n      <td>[{'course': ['Side Dishes']}, {'difficulty': [...</td>\n      <td>['2 lbs frozen or fresh whole green beans (If ...</td>\n      <td>['green beans', 'olive oil', 'soy sauce', 'gra...</td>\n      <td>{'FAT_KCAL': '25.0kcal', 'K': '0.24g', 'FASAT'...</td>\n    </tr>\n  </tbody>\n</table>\n</div>"
     },
     "execution_count": 2,
     "metadata": {},
     "output_type": "execute_result"
    }
   ],
   "source": [
    "df = pd.read_csv('../datasets/yummly/recipes_from_api_new.csv')\n",
    "df.drop('id', axis=1, inplace=True)\n",
    "df.set_index('link', inplace=True)\n",
    "df.head()"
   ]
  },
  {
   "cell_type": "code",
   "execution_count": 3,
   "metadata": {},
   "outputs": [
    {
     "data": {
      "text/plain": "(346252, 9)"
     },
     "execution_count": 3,
     "metadata": {},
     "output_type": "execute_result"
    }
   ],
   "source": [
    "df.shape"
   ]
  },
  {
   "cell_type": "code",
   "execution_count": 4,
   "metadata": {},
   "outputs": [
    {
     "data": {
      "text/plain": "(164982, 9)"
     },
     "execution_count": 4,
     "metadata": {},
     "output_type": "execute_result"
    }
   ],
   "source": [
    "df.drop_duplicates(inplace=True)\n",
    "df.shape"
   ]
  },
  {
   "cell_type": "code",
   "execution_count": 5,
   "metadata": {},
   "outputs": [
    {
     "data": {
      "text/plain": "                                           name totalTime  rating  \\\n0                     The Best Asian Vegetables    35 min     4.0   \n1                           Best Asian Meatball      1 hr     4.0   \n2                   The Best Asian Peanut Sauce    10 min     4.0   \n3       Best Asian Garlic Paleo Whole30 Noodles    10 min     4.0   \n4              The Best Asian Style Green Beans    15 min     4.0   \n...                                         ...       ...     ...   \n164977                          Turkish Gozleme    50 min     4.0   \n164978                             Turkish Eggs    25 min     4.0   \n164979                         Turkish Tomatoes      1 hr     4.2   \n164980    Swedish Heirloom Cookies with Walnuts    24 min     4.0   \n164981           Swedish Cream Bun Cake (Semla)    45 min     3.0   \n\n                     category  cuisine  \\\n0                         NaN    Asian   \n1                 Main Dishes  Chinese   \n2       Condiments and Sauces    Asian   \n3                         NaN    Asian   \n4                 Side Dishes      NaN   \n...                       ...      ...   \n164977                    NaN      NaN   \n164978   Breakfast and Brunch      NaN   \n164979            Side Dishes      NaN   \n164980               Desserts  Swedish   \n164981               Desserts      NaN   \n\n                                                     tags  \\\n0       [{'cuisine': ['Asian']}, {'difficulty': ['Easy...   \n1       [{'course': ['Main Dishes']}, {'cuisine': ['Ch...   \n2       [{'course': ['Condiments and Sauces']}, {'cuis...   \n3       [{'cuisine': ['Asian']}, {'difficulty': ['Quic...   \n4       [{'course': ['Side Dishes']}, {'difficulty': [...   \n...                                                   ...   \n164977                                                 []   \n164978  [{'course': ['Breakfast and Brunch']}, {'nutri...   \n164979  [{'course': ['Side Dishes']}, {'difficulty': [...   \n164980  [{'course': ['Desserts']}, {'cuisine': ['Swedi...   \n164981  [{'course': ['Desserts', 'Breads']}, {'dish': ...   \n\n                                    IngredientsWithAmount  \\\n0       ['two Tablespoons vegetable oil', '2 medium zu...   \n1       ['1lb lean ground beef', '½ cup white onion (m...   \n2       ['2 tablespoons light coconut milk', '1/4 cup ...   \n3       ['1 large cooked spaghetti squash see notes on...   \n4       ['2 lbs frozen or fresh whole green beans (If ...   \n...                                                   ...   \n164977  ['3 cup all purpose flour (more to use when ro...   \n164978  ['1 cup Greek yogurt', '2 garlic cloves grated...   \n164979  ['8 -10 large tomatoes', '60 ml olive oil', '2...   \n164980  ['2 cups white flour', '2 sticks softened butt...   \n164981  ['Bread', '1/2 cup granulated sugar', '1/4 tea...   \n\n                                              Ingredients  \\\n0       ['vegetable oil', 'medium zucchini', 'broccoli...   \n1       ['lean ground beef', 'white onion', 'egg', 'ga...   \n2       ['light coconut milk', 'low sodium chicken bro...   \n3       ['spaghetti squash', 'medium zucchini', 'large...   \n4       ['green beans', 'olive oil', 'soy sauce', 'gra...   \n...                                                   ...   \n164977  ['all purpose flour', 'salt', 'instant yeast',...   \n164978  ['Greek yogurt', 'garlic cloves', 'salt', 'bla...   \n164979  ['tomatoes', 'olive oil', 'onion', 'eggplant',...   \n164980  ['white flour', 'softened butter', 'salt', 'su...   \n164981  ['bread', 'granulated sugar', 'salt', 'whole m...   \n\n                                          NutritionValues  \n0       {'FAT_KCAL': '90.0kcal', 'K': '0.57g', 'FASAT'...  \n1       {'FAT_KCAL': '70.0kcal', 'K': '0.69g', 'FASAT'...  \n2       {'FAT_KCAL': '120.0kcal', 'K': '0.23g', 'FASAT...  \n3       {'FAT_KCAL': '100.0kcal', 'K': '0.75g', 'FASAT...  \n4       {'FAT_KCAL': '25.0kcal', 'K': '0.24g', 'FASAT'...  \n...                                                   ...  \n164977  {'FAT_KCAL': '110.0kcal', 'K': '0.34g', 'FASAT...  \n164978  {'FAT_KCAL': '170.0kcal', 'K': '0.21g', 'FASAT...  \n164979  {'FAT_KCAL': '170.0kcal', 'K': '1.21g', 'FASAT...  \n164980  {'FAT_KCAL': '700.0kcal', 'K': '0.31g', 'FASAT...  \n164981  {'FAT_KCAL': '90.0kcal', 'K': '0.16g', 'FASAT'...  \n\n[164982 rows x 9 columns]",
      "text/html": "<div>\n<style scoped>\n    .dataframe tbody tr th:only-of-type {\n        vertical-align: middle;\n    }\n\n    .dataframe tbody tr th {\n        vertical-align: top;\n    }\n\n    .dataframe thead th {\n        text-align: right;\n    }\n</style>\n<table border=\"1\" class=\"dataframe\">\n  <thead>\n    <tr style=\"text-align: right;\">\n      <th></th>\n      <th>name</th>\n      <th>totalTime</th>\n      <th>rating</th>\n      <th>category</th>\n      <th>cuisine</th>\n      <th>tags</th>\n      <th>IngredientsWithAmount</th>\n      <th>Ingredients</th>\n      <th>NutritionValues</th>\n    </tr>\n  </thead>\n  <tbody>\n    <tr>\n      <th>0</th>\n      <td>The Best Asian Vegetables</td>\n      <td>35 min</td>\n      <td>4.0</td>\n      <td>NaN</td>\n      <td>Asian</td>\n      <td>[{'cuisine': ['Asian']}, {'difficulty': ['Easy...</td>\n      <td>['two Tablespoons vegetable oil', '2 medium zu...</td>\n      <td>['vegetable oil', 'medium zucchini', 'broccoli...</td>\n      <td>{'FAT_KCAL': '90.0kcal', 'K': '0.57g', 'FASAT'...</td>\n    </tr>\n    <tr>\n      <th>1</th>\n      <td>Best Asian Meatball</td>\n      <td>1 hr</td>\n      <td>4.0</td>\n      <td>Main Dishes</td>\n      <td>Chinese</td>\n      <td>[{'course': ['Main Dishes']}, {'cuisine': ['Ch...</td>\n      <td>['1lb lean ground beef', '½ cup white onion (m...</td>\n      <td>['lean ground beef', 'white onion', 'egg', 'ga...</td>\n      <td>{'FAT_KCAL': '70.0kcal', 'K': '0.69g', 'FASAT'...</td>\n    </tr>\n    <tr>\n      <th>2</th>\n      <td>The Best Asian Peanut Sauce</td>\n      <td>10 min</td>\n      <td>4.0</td>\n      <td>Condiments and Sauces</td>\n      <td>Asian</td>\n      <td>[{'course': ['Condiments and Sauces']}, {'cuis...</td>\n      <td>['2 tablespoons light coconut milk', '1/4 cup ...</td>\n      <td>['light coconut milk', 'low sodium chicken bro...</td>\n      <td>{'FAT_KCAL': '120.0kcal', 'K': '0.23g', 'FASAT...</td>\n    </tr>\n    <tr>\n      <th>3</th>\n      <td>Best Asian Garlic Paleo Whole30 Noodles</td>\n      <td>10 min</td>\n      <td>4.0</td>\n      <td>NaN</td>\n      <td>Asian</td>\n      <td>[{'cuisine': ['Asian']}, {'difficulty': ['Quic...</td>\n      <td>['1 large cooked spaghetti squash see notes on...</td>\n      <td>['spaghetti squash', 'medium zucchini', 'large...</td>\n      <td>{'FAT_KCAL': '100.0kcal', 'K': '0.75g', 'FASAT...</td>\n    </tr>\n    <tr>\n      <th>4</th>\n      <td>The Best Asian Style Green Beans</td>\n      <td>15 min</td>\n      <td>4.0</td>\n      <td>Side Dishes</td>\n      <td>NaN</td>\n      <td>[{'course': ['Side Dishes']}, {'difficulty': [...</td>\n      <td>['2 lbs frozen or fresh whole green beans (If ...</td>\n      <td>['green beans', 'olive oil', 'soy sauce', 'gra...</td>\n      <td>{'FAT_KCAL': '25.0kcal', 'K': '0.24g', 'FASAT'...</td>\n    </tr>\n    <tr>\n      <th>...</th>\n      <td>...</td>\n      <td>...</td>\n      <td>...</td>\n      <td>...</td>\n      <td>...</td>\n      <td>...</td>\n      <td>...</td>\n      <td>...</td>\n      <td>...</td>\n    </tr>\n    <tr>\n      <th>164977</th>\n      <td>Turkish Gozleme</td>\n      <td>50 min</td>\n      <td>4.0</td>\n      <td>NaN</td>\n      <td>NaN</td>\n      <td>[]</td>\n      <td>['3 cup all purpose flour (more to use when ro...</td>\n      <td>['all purpose flour', 'salt', 'instant yeast',...</td>\n      <td>{'FAT_KCAL': '110.0kcal', 'K': '0.34g', 'FASAT...</td>\n    </tr>\n    <tr>\n      <th>164978</th>\n      <td>Turkish Eggs</td>\n      <td>25 min</td>\n      <td>4.0</td>\n      <td>Breakfast and Brunch</td>\n      <td>NaN</td>\n      <td>[{'course': ['Breakfast and Brunch']}, {'nutri...</td>\n      <td>['1 cup Greek yogurt', '2 garlic cloves grated...</td>\n      <td>['Greek yogurt', 'garlic cloves', 'salt', 'bla...</td>\n      <td>{'FAT_KCAL': '170.0kcal', 'K': '0.21g', 'FASAT...</td>\n    </tr>\n    <tr>\n      <th>164979</th>\n      <td>Turkish Tomatoes</td>\n      <td>1 hr</td>\n      <td>4.2</td>\n      <td>Side Dishes</td>\n      <td>NaN</td>\n      <td>[{'course': ['Side Dishes']}, {'difficulty': [...</td>\n      <td>['8 -10 large tomatoes', '60 ml olive oil', '2...</td>\n      <td>['tomatoes', 'olive oil', 'onion', 'eggplant',...</td>\n      <td>{'FAT_KCAL': '170.0kcal', 'K': '1.21g', 'FASAT...</td>\n    </tr>\n    <tr>\n      <th>164980</th>\n      <td>Swedish Heirloom Cookies with Walnuts</td>\n      <td>24 min</td>\n      <td>4.0</td>\n      <td>Desserts</td>\n      <td>Swedish</td>\n      <td>[{'course': ['Desserts']}, {'cuisine': ['Swedi...</td>\n      <td>['2 cups white flour', '2 sticks softened butt...</td>\n      <td>['white flour', 'softened butter', 'salt', 'su...</td>\n      <td>{'FAT_KCAL': '700.0kcal', 'K': '0.31g', 'FASAT...</td>\n    </tr>\n    <tr>\n      <th>164981</th>\n      <td>Swedish Cream Bun Cake (Semla)</td>\n      <td>45 min</td>\n      <td>3.0</td>\n      <td>Desserts</td>\n      <td>NaN</td>\n      <td>[{'course': ['Desserts', 'Breads']}, {'dish': ...</td>\n      <td>['Bread', '1/2 cup granulated sugar', '1/4 tea...</td>\n      <td>['bread', 'granulated sugar', 'salt', 'whole m...</td>\n      <td>{'FAT_KCAL': '90.0kcal', 'K': '0.16g', 'FASAT'...</td>\n    </tr>\n  </tbody>\n</table>\n<p>164982 rows × 9 columns</p>\n</div>"
     },
     "execution_count": 5,
     "metadata": {},
     "output_type": "execute_result"
    }
   ],
   "source": [
    "df.reset_index(drop=True, inplace=True)\n",
    "df"
   ]
  },
  {
   "cell_type": "code",
   "execution_count": 6,
   "metadata": {},
   "outputs": [
    {
     "data": {
      "text/plain": "                                           name totalTime  rating  \\\n0                     The Best Asian Vegetables    35 min     4.0   \n1                           Best Asian Meatball      1 hr     4.0   \n2                   The Best Asian Peanut Sauce    10 min     4.0   \n3       Best Asian Garlic Paleo Whole30 Noodles    10 min     4.0   \n4              The Best Asian Style Green Beans    15 min     4.0   \n...                                         ...       ...     ...   \n163956                          Turkish Gozleme    50 min     4.0   \n163957                             Turkish Eggs    25 min     4.0   \n163958                         Turkish Tomatoes      1 hr     4.2   \n163959    Swedish Heirloom Cookies with Walnuts    24 min     4.0   \n163960           Swedish Cream Bun Cake (Semla)    45 min     3.0   \n\n                     category  cuisine  \\\n0                         NaN    Asian   \n1                 Main Dishes  Chinese   \n2       Condiments and Sauces    Asian   \n3                         NaN    Asian   \n4                 Side Dishes      NaN   \n...                       ...      ...   \n163956                    NaN      NaN   \n163957   Breakfast and Brunch      NaN   \n163958            Side Dishes      NaN   \n163959               Desserts  Swedish   \n163960               Desserts      NaN   \n\n                                                     tags  \\\n0       [{'cuisine': ['Asian']}, {'difficulty': ['Easy...   \n1       [{'course': ['Main Dishes']}, {'cuisine': ['Ch...   \n2       [{'course': ['Condiments and Sauces']}, {'cuis...   \n3       [{'cuisine': ['Asian']}, {'difficulty': ['Quic...   \n4       [{'course': ['Side Dishes']}, {'difficulty': [...   \n...                                                   ...   \n163956                                                 []   \n163957  [{'course': ['Breakfast and Brunch']}, {'nutri...   \n163958  [{'course': ['Side Dishes']}, {'difficulty': [...   \n163959  [{'course': ['Desserts']}, {'cuisine': ['Swedi...   \n163960  [{'course': ['Desserts', 'Breads']}, {'dish': ...   \n\n                                    IngredientsWithAmount  \\\n0       ['two Tablespoons vegetable oil', '2 medium zu...   \n1       ['1lb lean ground beef', '½ cup white onion (m...   \n2       ['2 tablespoons light coconut milk', '1/4 cup ...   \n3       ['1 large cooked spaghetti squash see notes on...   \n4       ['2 lbs frozen or fresh whole green beans (If ...   \n...                                                   ...   \n163956  ['3 cup all purpose flour (more to use when ro...   \n163957  ['1 cup Greek yogurt', '2 garlic cloves grated...   \n163958  ['8 -10 large tomatoes', '60 ml olive oil', '2...   \n163959  ['2 cups white flour', '2 sticks softened butt...   \n163960  ['Bread', '1/2 cup granulated sugar', '1/4 tea...   \n\n                                              Ingredients  \\\n0       ['vegetable oil', 'medium zucchini', 'broccoli...   \n1       ['lean ground beef', 'white onion', 'egg', 'ga...   \n2       ['light coconut milk', 'low sodium chicken bro...   \n3       ['spaghetti squash', 'medium zucchini', 'large...   \n4       ['green beans', 'olive oil', 'soy sauce', 'gra...   \n...                                                   ...   \n163956  ['all purpose flour', 'salt', 'instant yeast',...   \n163957  ['Greek yogurt', 'garlic cloves', 'salt', 'bla...   \n163958  ['tomatoes', 'olive oil', 'onion', 'eggplant',...   \n163959  ['white flour', 'softened butter', 'salt', 'su...   \n163960  ['bread', 'granulated sugar', 'salt', 'whole m...   \n\n                                          NutritionValues  \n0       {'FAT_KCAL': '90.0kcal', 'K': '0.57g', 'FASAT'...  \n1       {'FAT_KCAL': '70.0kcal', 'K': '0.69g', 'FASAT'...  \n2       {'FAT_KCAL': '120.0kcal', 'K': '0.23g', 'FASAT...  \n3       {'FAT_KCAL': '100.0kcal', 'K': '0.75g', 'FASAT...  \n4       {'FAT_KCAL': '25.0kcal', 'K': '0.24g', 'FASAT'...  \n...                                                   ...  \n163956  {'FAT_KCAL': '110.0kcal', 'K': '0.34g', 'FASAT...  \n163957  {'FAT_KCAL': '170.0kcal', 'K': '0.21g', 'FASAT...  \n163958  {'FAT_KCAL': '170.0kcal', 'K': '1.21g', 'FASAT...  \n163959  {'FAT_KCAL': '700.0kcal', 'K': '0.31g', 'FASAT...  \n163960  {'FAT_KCAL': '90.0kcal', 'K': '0.16g', 'FASAT'...  \n\n[163961 rows x 9 columns]",
      "text/html": "<div>\n<style scoped>\n    .dataframe tbody tr th:only-of-type {\n        vertical-align: middle;\n    }\n\n    .dataframe tbody tr th {\n        vertical-align: top;\n    }\n\n    .dataframe thead th {\n        text-align: right;\n    }\n</style>\n<table border=\"1\" class=\"dataframe\">\n  <thead>\n    <tr style=\"text-align: right;\">\n      <th></th>\n      <th>name</th>\n      <th>totalTime</th>\n      <th>rating</th>\n      <th>category</th>\n      <th>cuisine</th>\n      <th>tags</th>\n      <th>IngredientsWithAmount</th>\n      <th>Ingredients</th>\n      <th>NutritionValues</th>\n    </tr>\n  </thead>\n  <tbody>\n    <tr>\n      <th>0</th>\n      <td>The Best Asian Vegetables</td>\n      <td>35 min</td>\n      <td>4.0</td>\n      <td>NaN</td>\n      <td>Asian</td>\n      <td>[{'cuisine': ['Asian']}, {'difficulty': ['Easy...</td>\n      <td>['two Tablespoons vegetable oil', '2 medium zu...</td>\n      <td>['vegetable oil', 'medium zucchini', 'broccoli...</td>\n      <td>{'FAT_KCAL': '90.0kcal', 'K': '0.57g', 'FASAT'...</td>\n    </tr>\n    <tr>\n      <th>1</th>\n      <td>Best Asian Meatball</td>\n      <td>1 hr</td>\n      <td>4.0</td>\n      <td>Main Dishes</td>\n      <td>Chinese</td>\n      <td>[{'course': ['Main Dishes']}, {'cuisine': ['Ch...</td>\n      <td>['1lb lean ground beef', '½ cup white onion (m...</td>\n      <td>['lean ground beef', 'white onion', 'egg', 'ga...</td>\n      <td>{'FAT_KCAL': '70.0kcal', 'K': '0.69g', 'FASAT'...</td>\n    </tr>\n    <tr>\n      <th>2</th>\n      <td>The Best Asian Peanut Sauce</td>\n      <td>10 min</td>\n      <td>4.0</td>\n      <td>Condiments and Sauces</td>\n      <td>Asian</td>\n      <td>[{'course': ['Condiments and Sauces']}, {'cuis...</td>\n      <td>['2 tablespoons light coconut milk', '1/4 cup ...</td>\n      <td>['light coconut milk', 'low sodium chicken bro...</td>\n      <td>{'FAT_KCAL': '120.0kcal', 'K': '0.23g', 'FASAT...</td>\n    </tr>\n    <tr>\n      <th>3</th>\n      <td>Best Asian Garlic Paleo Whole30 Noodles</td>\n      <td>10 min</td>\n      <td>4.0</td>\n      <td>NaN</td>\n      <td>Asian</td>\n      <td>[{'cuisine': ['Asian']}, {'difficulty': ['Quic...</td>\n      <td>['1 large cooked spaghetti squash see notes on...</td>\n      <td>['spaghetti squash', 'medium zucchini', 'large...</td>\n      <td>{'FAT_KCAL': '100.0kcal', 'K': '0.75g', 'FASAT...</td>\n    </tr>\n    <tr>\n      <th>4</th>\n      <td>The Best Asian Style Green Beans</td>\n      <td>15 min</td>\n      <td>4.0</td>\n      <td>Side Dishes</td>\n      <td>NaN</td>\n      <td>[{'course': ['Side Dishes']}, {'difficulty': [...</td>\n      <td>['2 lbs frozen or fresh whole green beans (If ...</td>\n      <td>['green beans', 'olive oil', 'soy sauce', 'gra...</td>\n      <td>{'FAT_KCAL': '25.0kcal', 'K': '0.24g', 'FASAT'...</td>\n    </tr>\n    <tr>\n      <th>...</th>\n      <td>...</td>\n      <td>...</td>\n      <td>...</td>\n      <td>...</td>\n      <td>...</td>\n      <td>...</td>\n      <td>...</td>\n      <td>...</td>\n      <td>...</td>\n    </tr>\n    <tr>\n      <th>163956</th>\n      <td>Turkish Gozleme</td>\n      <td>50 min</td>\n      <td>4.0</td>\n      <td>NaN</td>\n      <td>NaN</td>\n      <td>[]</td>\n      <td>['3 cup all purpose flour (more to use when ro...</td>\n      <td>['all purpose flour', 'salt', 'instant yeast',...</td>\n      <td>{'FAT_KCAL': '110.0kcal', 'K': '0.34g', 'FASAT...</td>\n    </tr>\n    <tr>\n      <th>163957</th>\n      <td>Turkish Eggs</td>\n      <td>25 min</td>\n      <td>4.0</td>\n      <td>Breakfast and Brunch</td>\n      <td>NaN</td>\n      <td>[{'course': ['Breakfast and Brunch']}, {'nutri...</td>\n      <td>['1 cup Greek yogurt', '2 garlic cloves grated...</td>\n      <td>['Greek yogurt', 'garlic cloves', 'salt', 'bla...</td>\n      <td>{'FAT_KCAL': '170.0kcal', 'K': '0.21g', 'FASAT...</td>\n    </tr>\n    <tr>\n      <th>163958</th>\n      <td>Turkish Tomatoes</td>\n      <td>1 hr</td>\n      <td>4.2</td>\n      <td>Side Dishes</td>\n      <td>NaN</td>\n      <td>[{'course': ['Side Dishes']}, {'difficulty': [...</td>\n      <td>['8 -10 large tomatoes', '60 ml olive oil', '2...</td>\n      <td>['tomatoes', 'olive oil', 'onion', 'eggplant',...</td>\n      <td>{'FAT_KCAL': '170.0kcal', 'K': '1.21g', 'FASAT...</td>\n    </tr>\n    <tr>\n      <th>163959</th>\n      <td>Swedish Heirloom Cookies with Walnuts</td>\n      <td>24 min</td>\n      <td>4.0</td>\n      <td>Desserts</td>\n      <td>Swedish</td>\n      <td>[{'course': ['Desserts']}, {'cuisine': ['Swedi...</td>\n      <td>['2 cups white flour', '2 sticks softened butt...</td>\n      <td>['white flour', 'softened butter', 'salt', 'su...</td>\n      <td>{'FAT_KCAL': '700.0kcal', 'K': '0.31g', 'FASAT...</td>\n    </tr>\n    <tr>\n      <th>163960</th>\n      <td>Swedish Cream Bun Cake (Semla)</td>\n      <td>45 min</td>\n      <td>3.0</td>\n      <td>Desserts</td>\n      <td>NaN</td>\n      <td>[{'course': ['Desserts', 'Breads']}, {'dish': ...</td>\n      <td>['Bread', '1/2 cup granulated sugar', '1/4 tea...</td>\n      <td>['bread', 'granulated sugar', 'salt', 'whole m...</td>\n      <td>{'FAT_KCAL': '90.0kcal', 'K': '0.16g', 'FASAT'...</td>\n    </tr>\n  </tbody>\n</table>\n<p>163961 rows × 9 columns</p>\n</div>"
     },
     "execution_count": 6,
     "metadata": {},
     "output_type": "execute_result"
    }
   ],
   "source": [
    "value_counts = df['category'].value_counts()\n",
    "to_remove = value_counts[value_counts <= 900].index\n",
    "df = df[~df.category.isin(to_remove)]\n",
    "\n",
    "df.reset_index(drop=True, inplace=True)\n",
    "df"
   ]
  },
  {
   "cell_type": "code",
   "execution_count": 7,
   "metadata": {},
   "outputs": [
    {
     "data": {
      "text/plain": "Main Dishes              63578\nDesserts                 13615\nSoups                    10381\nSalads                    9191\nSide Dishes               8376\nAppetizers                6724\nBreads                    4428\nBreakfast and Brunch      3717\nCocktails                 2450\nCondiments and Sauces     2355\nLunch                     2034\nName: category, dtype: int64"
     },
     "execution_count": 7,
     "metadata": {},
     "output_type": "execute_result"
    }
   ],
   "source": [
    "df.category.value_counts()"
   ]
  },
  {
   "cell_type": "code",
   "execution_count": 8,
   "metadata": {},
   "outputs": [
    {
     "data": {
      "text/plain": "<AxesSubplot: >"
     },
     "execution_count": 8,
     "metadata": {},
     "output_type": "execute_result"
    },
    {
     "data": {
      "text/plain": "<Figure size 640x480 with 1 Axes>",
      "image/png": "[encoded data removed]"
     },
     "metadata": {},
     "output_type": "display_data"
    }
   ],
   "source": [
    "categories = df.category.value_counts()\n",
    "categories.plot(kind='barh')"
   ]
  },
  {
   "cell_type": "code",
   "execution_count": 9,
   "metadata": {},
   "outputs": [
    {
     "data": {
      "text/plain": "(126849, 9)"
     },
     "execution_count": 9,
     "metadata": {},
     "output_type": "execute_result"
    }
   ],
   "source": [
    "df.dropna(subset=['category'],inplace=True)\n",
    "df.shape"
   ]
  },
  {
   "cell_type": "code",
   "execution_count": 10,
   "metadata": {},
   "outputs": [
    {
     "data": {
      "text/plain": "28956     ['pizza dough', 'marinara sauce', 'sliced pepp...\n132615    ['top round steaks', 'brown mustard', 'onions'...\n135867    ['chicken breasts boneless skinless', 'onions'...\n38340     ['wide egg noodles', 'cream of mushroom', 'coo...\n2397      ['spare ribs', 'vegetable oil', 'brown sugar',...\n                                ...                        \n97806     ['boneless skinless chicken breasts', 'garlic'...\n67795     ['shrimp', 'angel hair pasta', 'butter', 'oliv...\n104658    ['chicken stock', 'butter', 'saffron threads',...\n3201      ['salmon filets', 'fresh ginger', 'lemongrass'...\n117898    ['beef', 'black pepper', 'plain flour', 'salt'...\nName: Ingredients, Length: 95136, dtype: object"
     },
     "execution_count": 10,
     "metadata": {},
     "output_type": "execute_result"
    }
   ],
   "source": [
    "from sklearn.model_selection import train_test_split\n",
    "\n",
    "y = df.category\n",
    "X = df.Ingredients\n",
    "X_train, X_test, y_train, y_test = train_test_split(X,y,random_state=12345,shuffle=True, test_size=0.25, stratify=y)\n",
    "X_train"
   ]
  },
  {
   "cell_type": "code",
   "execution_count": 11,
   "metadata": {},
   "outputs": [],
   "source": [
    "import json\n",
    "def generate_text(data):\n",
    "    return [doc.replace('\\', \\'', ' ').replace('[\\'', '').replace('\\']', '').lower() for doc in data]\n",
    "train_text = generate_texat(X_train)\n",
    "test_text = generate_text(X_test)\n",
    "target = y_train"
   ]
  },
  {
   "cell_type": "code",
   "execution_count": 12,
   "metadata": {},
   "outputs": [],
   "source": [
    "from sklearn.preprocessing import LabelEncoder\n",
    "from sklearn.feature_extraction.text import TfidfVectorizer\n",
    "\n",
    "tfidf = TfidfVectorizer(binary=True)\n",
    "X = tfidf.fit_transform(train_text)\n",
    "X_test = tfidf.transform(test_text).astype('float16')\n",
    "\n",
    "lb = LabelEncoder()\n",
    "y = lb.fit_transform(target)"
   ]
  },
  {
   "cell_type": "code",
   "execution_count": 13,
   "metadata": {},
   "outputs": [],
   "source": [
    "from sklearn.model_selection import cross_validate\n",
    "\n",
    "skfold = StratifiedKFold(n_splits=5, random_state=12345, shuffle=True)\n",
    "\n",
    "def cross_validation_statistics(classifier, X, y):\n",
    "    scores = cross_validate(classifier, X , y, cv=skfold, scoring = {'acc': 'accuracy','prec': 'precision_weighted', 'rec': 'recall_macro'})\n",
    "    print('Cross validation statistics: ')\n",
    "    print(' Mean Fit Time:', scores['fit_time'].mean())\n",
    "    print(' Mean Predict Time:', scores['score_time'].mean())\n",
    "    print(' Mean Accuracy:', scores['test_acc'].mean())\n",
    "    print(' Mean Weighted Precision:', scores['test_prec'].mean())\n",
    "    print(' Mean Macro Recall:', scores['test_rec'].mean())"
   ]
  },
  {
   "cell_type": "code",
   "execution_count": 14,
   "metadata": {},
   "outputs": [
    {
     "name": "stdout",
     "output_type": "stream",
     "text": [
      "Cross validation statistics: \n",
      " Mean Fit Time: 13.183510541915894\n",
      " Mean Predict Time: 0.023613452911376953\n",
      " Mean Accuracy: 0.7130108212068089\n",
      " Mean Weighted Precision: 0.7092394129050485\n",
      " Mean Macro Recall: 0.5907695443754577\n"
     ]
    }
   ],
   "source": [
    "from sklearn import tree\n",
    "\n",
    "dt = tree.DecisionTreeClassifier()\n",
    "dt.fit(X, y)\n",
    "\n",
    "y_pred = dt.predict(X_test)\n",
    "y_pred = lb.inverse_transform(y_pred)\n",
    "\n",
    "cross_validation_statistics(dt, X, y)"
   ]
  },
  {
   "cell_type": "code",
   "execution_count": 15,
   "metadata": {},
   "outputs": [
    {
     "name": "stdout",
     "output_type": "stream",
     "text": [
      "Cross validation statistics: \n",
      " Mean Fit Time: 14.984416484832764\n",
      " Mean Predict Time: 0.1404275417327881\n",
      " Mean Accuracy: 0.5378406899485931\n",
      " Mean Weighted Precision: 0.4984409700429415\n",
      " Mean Macro Recall: 0.32334169256548195\n"
     ]
    }
   ],
   "source": [
    "from sklearn.ensemble import AdaBoostClassifier\n",
    "\n",
    "adaBoost = AdaBoostClassifier()\n",
    "adaBoost.fit(X, y)\n",
    "\n",
    "y_pred = adaBoost.predict(X_test)\n",
    "y_pred = lb.inverse_transform(y_pred)\n",
    "\n",
    "cross_validation_statistics(adaBoost, X, y)"
   ]
  },
  {
   "cell_type": "code",
   "execution_count": 16,
   "metadata": {},
   "outputs": [
    {
     "name": "stdout",
     "output_type": "stream",
     "text": [
      "Cross validation statistics: \n",
      " Mean Fit Time: 0.012685012817382813\n",
      " Mean Predict Time: 59.43381781578064\n",
      " Mean Accuracy: 0.7565800428827565\n",
      " Mean Weighted Precision: 0.7650578189619889\n",
      " Mean Macro Recall: 0.6651387271181888\n"
     ]
    }
   ],
   "source": [
    "from sklearn.neighbors import KNeighborsClassifier\n",
    "\n",
    "knn = KNeighborsClassifier(n_neighbors=3)\n",
    "knn.fit(X, y)\n",
    "\n",
    "y_pred = knn.predict(X_test)\n",
    "y_pred = lb.inverse_transform(y_pred)\n",
    "\n",
    "cross_validation_statistics(knn, X, y)"
   ]
  },
  {
   "cell_type": "code",
   "execution_count": 17,
   "metadata": {},
   "outputs": [
    {
     "name": "stdout",
     "output_type": "stream",
     "text": [
      "Cross validation statistics: \n",
      " Mean Fit Time: 2.8651733875274656\n",
      " Mean Predict Time: 0.01260361671447754\n",
      " Mean Accuracy: 0.8268163408605183\n",
      " Mean Weighted Precision: 0.8193961583328152\n",
      " Mean Macro Recall: 0.7025522126576702\n"
     ]
    }
   ],
   "source": [
    "from sklearn.linear_model import LogisticRegression\n",
    "\n",
    "logisticRegression = LogisticRegression()\n",
    "logisticRegression.fit(X, y)\n",
    "\n",
    "y_pred = logisticRegression.predict(X_test)\n",
    "y_pred = lb.inverse_transform(y_pred)\n",
    "\n",
    "cross_validation_statistics(logisticRegression, X, y)"
   ]
  },
  {
   "cell_type": "code",
   "execution_count": 18,
   "metadata": {},
   "outputs": [
    {
     "name": "stdout",
     "output_type": "stream",
     "text": [
      "Cross validation statistics: \n",
      " Mean Fit Time: 852.5451084136963\n",
      " Mean Predict Time: 102.54272079467773\n",
      " Mean Accuracy: 0.8586549651475543\n",
      " Mean Weighted Precision: 0.854811638899554\n",
      " Mean Macro Recall: 0.7460118169722023\n"
     ]
    }
   ],
   "source": [
    "from sklearn.svm import SVC\n",
    "\n",
    "svc = SVC()\n",
    "svc.fit(X, y)\n",
    "\n",
    "y_pred = svc.predict(X_test)\n",
    "y_pred = lb.inverse_transform(y_pred)\n",
    "\n",
    "cross_validation_statistics(svc, X, y)"
   ]
  },
  {
   "cell_type": "code",
   "execution_count": 19,
   "metadata": {},
   "outputs": [
    {
     "name": "stdout",
     "output_type": "stream",
     "text": [
      "Cross validation statistics: \n",
      " Mean Fit Time: 57.19256272315979\n",
      " Mean Predict Time: 0.5835932731628418\n",
      " Mean Accuracy: 0.7763622242267079\n",
      " Mean Weighted Precision: 0.7993203059247491\n",
      " Mean Macro Recall: 0.5663785404488194\n"
     ]
    }
   ],
   "source": [
    "from sklearn.ensemble import RandomForestClassifier\n",
    "\n",
    "rf = RandomForestClassifier()\n",
    "rf.fit(X, y)\n",
    "\n",
    "y_pred = rf.predict(X_test)\n",
    "y_pred = lb.inverse_transform(y_pred)\n",
    "\n",
    "cross_validation_statistics(rf, X, y)"
   ]
  },
  {
   "cell_type": "code",
   "execution_count": null,
   "outputs": [],
   "source": [
    "import pickle\n",
    "\n",
    "with open('../pickles/model_category.pickle', 'wb') as to_write:\n",
    "    pickle.dump(logisticRegression, to_write)\n",
    "with open('../pickles/lb_category.pickle', 'wb') as to_write:\n",
    "    pickle.dump(lb, to_write)\n",
    "with open('t../pickles/fidf_category.pickle', 'wb') as to_write:\n",
    "    pickle.dump(tfidf, to_write)"
   ],
   "metadata": {
    "collapsed": false
   }
  }
 ],
 "metadata": {
  "kernelspec": {
   "display_name": ".venv",
   "language": "python",
   "name": "python3"
  },
  "language_info": {
   "codemirror_mode": {
    "name": "ipython",
    "version": 3
   },
   "file_extension": ".py",
   "mimetype": "text/x-python",
   "name": "python",
   "nbconvert_exporter": "python",
   "pygments_lexer": "ipython3",
   "version": "3.9.6 (default, Oct 18 2022, 12:41:40) \n[Clang 14.0.0 (clang-1400.0.29.202)]"
  },
  "orig_nbformat": 4,
  "vscode": {
   "interpreter": {
    "hash": "df9471b5e3f6cba4f1c2a26d9ad06fa44cf93f3bf47dd1df4ef818988cc41a11"
   }
  }
 },
 "nbformat": 4,
 "nbformat_minor": 2
}
